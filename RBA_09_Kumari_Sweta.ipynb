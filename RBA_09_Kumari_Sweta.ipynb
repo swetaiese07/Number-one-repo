{
  "nbformat": 4,
  "nbformat_minor": 0,
  "metadata": {
    "colab": {
      "name": "RBA_09_Kumari Sweta.ipynb",
      "provenance": [],
      "authorship_tag": "ABX9TyPNCtqTE0SbSzvxpkTtBbc2",
      "include_colab_link": true
    },
    "kernelspec": {
      "name": "python3",
      "display_name": "Python 3"
    },
    "language_info": {
      "name": "python"
    }
  },
  "cells": [
    {
      "cell_type": "markdown",
      "metadata": {
        "id": "view-in-github",
        "colab_type": "text"
      },
      "source": [
        "<a href=\"https://colab.research.google.com/github/swetaiese07/Number-one-repo/blob/main/RBA_09_Kumari_Sweta.ipynb\" target=\"_parent\"><img src=\"https://colab.research.google.com/assets/colab-badge.svg\" alt=\"Open In Colab\"/></a>"
      ]
    },
    {
      "cell_type": "code",
      "execution_count": 1,
      "metadata": {
        "id": "S06yHm9t89D3"
      },
      "outputs": [],
      "source": [
        "#INSTALLING NECESSARY LIBRARIES\n",
        "import numpy as np\n",
        "import matplotlib.pyplot as plt\n",
        "import glob\n",
        "import cv2\n",
        "import os\n",
        "import matplotlib.image as mpimg\n",
        "import random\n",
        "from sklearn import preprocessing\n",
        "import tensorflow.keras as keras\n",
        "import tensorflow as tf\n",
        "from keras.preprocessing.image import ImageDataGenerator\n",
        "from tensorflow.keras.utils import to_categorical"
      ]
    },
    {
      "cell_type": "code",
      "source": [
        "#ADDING SOME STATIC VARIABLES\n",
        "SIZE = 256\n",
        "SEED_TRAINING = 121\n",
        "SEED_TESTING = 197\n",
        "SEED_VALIDATION = 164\n",
        "CHANNELS = 3\n",
        "n_classes = 3\n",
        "EPOCHS = 50\n",
        "BATCH_SIZE = 16\n",
        "input_shape = (SIZE, SIZE, CHANNELS)"
      ],
      "metadata": {
        "id": "yyyHPRzD9LhZ"
      },
      "execution_count": 2,
      "outputs": []
    },
    {
      "cell_type": "code",
      "source": [
        "from google.colab import drive\n",
        "drive.mount('/content/gdrive')"
      ],
      "metadata": {
        "colab": {
          "base_uri": "https://localhost:8080/"
        },
        "id": "tXmGyETW9VRg",
        "outputId": "c7468345-b134-46a4-d117-bc7eedc42f57"
      },
      "execution_count": 3,
      "outputs": [
        {
          "output_type": "stream",
          "name": "stdout",
          "text": [
            "Mounted at /content/gdrive\n"
          ]
        }
      ]
    },
    {
      "cell_type": "code",
      "source": [
        "for image_batch, label_batch in dataset.take(1):\n",
        "  print(image_batch.shape)\n",
        "  print(label_batch)\n",
        "  print(image_batch[0])"
      ],
      "metadata": {
        "id": "Dy-AjLiY_PgU"
      },
      "execution_count": null,
      "outputs": []
    },
    {
      "cell_type": "code",
      "source": [
        "plt.figure(figsize=(12,10))\n",
        "for image_batch, label_batch in dataset.take(1):\n",
        "  for i in range(12):\n",
        "    ax = plt.subplot(3,4,i+1)\n",
        "    plt.title(class_names[label_batch[i]])\n",
        "    plt.imshow(image_batch[i].numpy().astype('uint8'))\n",
        "    plt.axis(False)"
      ],
      "metadata": {
        "id": "_XZ9-t2r_QOf"
      },
      "execution_count": null,
      "outputs": []
    },
    {
      "cell_type": "code",
      "source": [
        "train_datagen = ImageDataGenerator(\n",
        "        rescale = 1./255,\n",
        "        rotation_range = 30,\n",
        "        shear_range = 0.2,\n",
        "        zoom_range = 0.2,\n",
        "        width_shift_range=0.05,\n",
        "        height_shift_range=0.05,\n",
        "        horizontal_flip = True,\n",
        "        fill_mode = 'nearest')"
      ],
      "metadata": {
        "id": "gpSI1vQD9d1Q"
      },
      "execution_count": 4,
      "outputs": []
    },
    {
      "cell_type": "code",
      "source": [
        "validation_datagen = ImageDataGenerator(rescale=1./255)\n",
        "test_datagen = ImageDataGenerator(rescale = 1./255)"
      ],
      "metadata": {
        "id": "i64pMMeL9fz0"
      },
      "execution_count": 5,
      "outputs": []
    },
    {
      "cell_type": "code",
      "source": [
        "#DEFINING THE TRAIN DATASET\n",
        "train_generator = train_datagen.flow_from_directory(\n",
        "        directory = '/content/gdrive/MyDrive/kaggle_dataset/potato-leaf-disease-dataset/Potato/Train',  # this is the input directory\n",
        "        target_size = (256, 256),  # all images will be resized to 64x64\n",
        "        batch_size = BATCH_SIZE,\n",
        "        class_mode = 'categorical',\n",
        "        color_mode=\"rgb\")"
      ],
      "metadata": {
        "colab": {
          "base_uri": "https://localhost:8080/"
        },
        "id": "VspaGGrV9mcn",
        "outputId": "ce40e468-d481-4156-ef00-f02ffe7797c2"
      },
      "execution_count": 6,
      "outputs": [
        {
          "output_type": "stream",
          "name": "stdout",
          "text": [
            "Found 900 images belonging to 3 classes.\n"
          ]
        }
      ]
    },
    {
      "cell_type": "code",
      "source": [
        "#DEFINING THE VALIDATION DATASET\n",
        "validation_generator = validation_datagen.flow_from_directory(\n",
        "        '/content/gdrive/MyDrive/kaggle_dataset/potato-leaf-disease-dataset/Potato/Valid/',\n",
        "        target_size = (256, 256),\n",
        "        batch_size = BATCH_SIZE,\n",
        "        class_mode='categorical',\n",
        "        color_mode=\"rgb\")"
      ],
      "metadata": {
        "colab": {
          "base_uri": "https://localhost:8080/"
        },
        "id": "ZySTZffQ90Yd",
        "outputId": "9b3e5cfe-dbbf-4981-ea65-536d36d600d4"
      },
      "execution_count": 7,
      "outputs": [
        {
          "output_type": "stream",
          "name": "stdout",
          "text": [
            "Found 300 images belonging to 3 classes.\n"
          ]
        }
      ]
    },
    {
      "cell_type": "code",
      "source": [
        "#DEFINING THE TEST DATASET\n",
        "test_generator = test_datagen.flow_from_directory(\n",
        "        '/content/gdrive/MyDrive/kaggle_dataset/potato-leaf-disease-dataset/Potato/Test/',\n",
        "        target_size = (256, 256),\n",
        "        batch_size = BATCH_SIZE,\n",
        "        class_mode = 'categorical',\n",
        "        color_mode = \"rgb\")"
      ],
      "metadata": {
        "colab": {
          "base_uri": "https://localhost:8080/"
        },
        "id": "8e0qSONC9_B4",
        "outputId": "f4027ee3-8cf0-4fc3-a470-5d3d3fad9725"
      },
      "execution_count": 8,
      "outputs": [
        {
          "output_type": "stream",
          "name": "stdout",
          "text": [
            "Found 300 images belonging to 3 classes.\n"
          ]
        }
      ]
    },
    {
      "cell_type": "code",
      "source": [
        "#BUILDING THE CNN MODEL\n",
        "model = keras.models.Sequential([\n",
        "        keras.layers.Conv2D(32, (3,3), activation = 'relu', input_shape = input_shape),\n",
        "        keras.layers.MaxPooling2D((2, 2)),\n",
        "        keras.layers.Dropout(0.5),\n",
        "        keras.layers.Conv2D(64, (3,3), activation = 'relu', padding = 'same'),\n",
        "        keras.layers.MaxPooling2D((2,2)),\n",
        "        keras.layers.Dropout(0.5),\n",
        "        keras.layers.Conv2D(64, (3,3), activation = 'relu', padding = 'same'),\n",
        "        keras.layers.MaxPooling2D((2,2)),\n",
        "        keras.layers.Conv2D(64, (3,3), activation = 'relu', padding = 'same'),\n",
        "        keras.layers.MaxPooling2D((2,2)),\n",
        "        keras.layers.Conv2D(64, (3,3), activation = 'relu', padding = 'same'),\n",
        "        keras.layers.MaxPooling2D((2,2)),\n",
        "        keras.layers.Conv2D(64, (3,3), activation = 'relu', padding = 'same'),\n",
        "        keras.layers.MaxPooling2D((2,2)),\n",
        "        keras.layers.Flatten(),\n",
        "        keras.layers.Dense(32, activation ='relu'),\n",
        "        keras.layers.Dense(n_classes, activation='softmax')\n",
        "    ])"
      ],
      "metadata": {
        "id": "HB0HXGZw-Kzm"
      },
      "execution_count": 9,
      "outputs": []
    },
    {
      "cell_type": "code",
      "source": [
        "#MODEL SUMMARY\n",
        "model.summary()"
      ],
      "metadata": {
        "colab": {
          "base_uri": "https://localhost:8080/"
        },
        "id": "EHVzUXks-crD",
        "outputId": "ea71b53b-5829-49ac-fb39-9035566dab3e"
      },
      "execution_count": 10,
      "outputs": [
        {
          "output_type": "stream",
          "name": "stdout",
          "text": [
            "Model: \"sequential\"\n",
            "_________________________________________________________________\n",
            " Layer (type)                Output Shape              Param #   \n",
            "=================================================================\n",
            " conv2d (Conv2D)             (None, 254, 254, 32)      896       \n",
            "                                                                 \n",
            " max_pooling2d (MaxPooling2D  (None, 127, 127, 32)     0         \n",
            " )                                                               \n",
            "                                                                 \n",
            " dropout (Dropout)           (None, 127, 127, 32)      0         \n",
            "                                                                 \n",
            " conv2d_1 (Conv2D)           (None, 127, 127, 64)      18496     \n",
            "                                                                 \n",
            " max_pooling2d_1 (MaxPooling  (None, 63, 63, 64)       0         \n",
            " 2D)                                                             \n",
            "                                                                 \n",
            " dropout_1 (Dropout)         (None, 63, 63, 64)        0         \n",
            "                                                                 \n",
            " conv2d_2 (Conv2D)           (None, 63, 63, 64)        36928     \n",
            "                                                                 \n",
            " max_pooling2d_2 (MaxPooling  (None, 31, 31, 64)       0         \n",
            " 2D)                                                             \n",
            "                                                                 \n",
            " conv2d_3 (Conv2D)           (None, 31, 31, 64)        36928     \n",
            "                                                                 \n",
            " max_pooling2d_3 (MaxPooling  (None, 15, 15, 64)       0         \n",
            " 2D)                                                             \n",
            "                                                                 \n",
            " conv2d_4 (Conv2D)           (None, 15, 15, 64)        36928     \n",
            "                                                                 \n",
            " max_pooling2d_4 (MaxPooling  (None, 7, 7, 64)         0         \n",
            " 2D)                                                             \n",
            "                                                                 \n",
            " conv2d_5 (Conv2D)           (None, 7, 7, 64)          36928     \n",
            "                                                                 \n",
            " max_pooling2d_5 (MaxPooling  (None, 3, 3, 64)         0         \n",
            " 2D)                                                             \n",
            "                                                                 \n",
            " flatten (Flatten)           (None, 576)               0         \n",
            "                                                                 \n",
            " dense (Dense)               (None, 32)                18464     \n",
            "                                                                 \n",
            " dense_1 (Dense)             (None, 3)                 99        \n",
            "                                                                 \n",
            "=================================================================\n",
            "Total params: 185,667\n",
            "Trainable params: 185,667\n",
            "Non-trainable params: 0\n",
            "_________________________________________________________________\n"
          ]
        }
      ]
    },
    {
      "cell_type": "code",
      "source": [
        "#COMPILING THE MODEL\n",
        "model.compile(\n",
        "    optimizer = 'adam',\n",
        "    loss = tf.keras.losses.CategoricalCrossentropy(),\n",
        "    metrics  = ['accuracy']\n",
        "    )"
      ],
      "metadata": {
        "id": "clJyjwMb-lgJ"
      },
      "execution_count": 11,
      "outputs": []
    },
    {
      "cell_type": "code",
      "source": [
        "#TRAINING THE MODEL\n",
        "history = model.fit_generator(\n",
        "        train_generator,\n",
        "        steps_per_epoch = train_generator.n // train_generator.batch_size,    #The 2 slashes division return rounded integer\n",
        "        epochs = EPOCHS,\n",
        "        validation_data = validation_generator,\n",
        "        validation_steps = validation_generator.n // validation_generator.batch_size\n",
        "        )"
      ],
      "metadata": {
        "colab": {
          "base_uri": "https://localhost:8080/"
        },
        "id": "IhfjkWq9-rVB",
        "outputId": "e09aaaf6-acbd-4675-a5d7-07a3d343deac"
      },
      "execution_count": 12,
      "outputs": [
        {
          "output_type": "stream",
          "name": "stderr",
          "text": [
            "/usr/local/lib/python3.7/dist-packages/ipykernel_launcher.py:7: UserWarning: `Model.fit_generator` is deprecated and will be removed in a future version. Please use `Model.fit`, which supports generators.\n",
            "  import sys\n"
          ]
        },
        {
          "output_type": "stream",
          "name": "stdout",
          "text": [
            "Epoch 1/50\n",
            "56/56 [==============================] - 302s 5s/step - loss: 1.0948 - accuracy: 0.3688 - val_loss: 1.0907 - val_accuracy: 0.3299\n",
            "Epoch 2/50\n",
            "56/56 [==============================] - 117s 2s/step - loss: 0.7303 - accuracy: 0.6629 - val_loss: 0.6195 - val_accuracy: 0.8472\n",
            "Epoch 3/50\n",
            "56/56 [==============================] - 118s 2s/step - loss: 0.4186 - accuracy: 0.8337 - val_loss: 0.5675 - val_accuracy: 0.7778\n",
            "Epoch 4/50\n",
            "56/56 [==============================] - 116s 2s/step - loss: 0.3880 - accuracy: 0.8643 - val_loss: 0.3132 - val_accuracy: 0.8854\n",
            "Epoch 5/50\n",
            "56/56 [==============================] - 117s 2s/step - loss: 0.3621 - accuracy: 0.8529 - val_loss: 0.4063 - val_accuracy: 0.8542\n",
            "Epoch 6/50\n",
            "56/56 [==============================] - 116s 2s/step - loss: 0.2411 - accuracy: 0.9072 - val_loss: 0.2611 - val_accuracy: 0.9028\n",
            "Epoch 7/50\n",
            "56/56 [==============================] - 117s 2s/step - loss: 0.2392 - accuracy: 0.9050 - val_loss: 0.2824 - val_accuracy: 0.8785\n",
            "Epoch 8/50\n",
            "56/56 [==============================] - 116s 2s/step - loss: 0.2546 - accuracy: 0.8937 - val_loss: 0.2963 - val_accuracy: 0.8854\n",
            "Epoch 9/50\n",
            "56/56 [==============================] - 117s 2s/step - loss: 0.2277 - accuracy: 0.9038 - val_loss: 0.2591 - val_accuracy: 0.8924\n",
            "Epoch 10/50\n",
            "56/56 [==============================] - 116s 2s/step - loss: 0.2136 - accuracy: 0.9242 - val_loss: 0.2812 - val_accuracy: 0.8924\n",
            "Epoch 11/50\n",
            "56/56 [==============================] - 116s 2s/step - loss: 0.2297 - accuracy: 0.9129 - val_loss: 0.2390 - val_accuracy: 0.9097\n",
            "Epoch 12/50\n",
            "56/56 [==============================] - 117s 2s/step - loss: 0.1682 - accuracy: 0.9321 - val_loss: 0.3070 - val_accuracy: 0.8750\n",
            "Epoch 13/50\n",
            "56/56 [==============================] - 116s 2s/step - loss: 0.1861 - accuracy: 0.9231 - val_loss: 0.1987 - val_accuracy: 0.9340\n",
            "Epoch 14/50\n",
            "56/56 [==============================] - 116s 2s/step - loss: 0.2183 - accuracy: 0.9106 - val_loss: 0.3029 - val_accuracy: 0.8889\n",
            "Epoch 15/50\n",
            "56/56 [==============================] - 113s 2s/step - loss: 0.2234 - accuracy: 0.9231 - val_loss: 0.2938 - val_accuracy: 0.8889\n",
            "Epoch 16/50\n",
            "56/56 [==============================] - 113s 2s/step - loss: 0.2265 - accuracy: 0.9095 - val_loss: 0.2469 - val_accuracy: 0.8958\n",
            "Epoch 17/50\n",
            "56/56 [==============================] - 113s 2s/step - loss: 0.2955 - accuracy: 0.8948 - val_loss: 0.3587 - val_accuracy: 0.8785\n",
            "Epoch 18/50\n",
            "56/56 [==============================] - 113s 2s/step - loss: 0.2420 - accuracy: 0.9005 - val_loss: 0.4464 - val_accuracy: 0.8299\n",
            "Epoch 19/50\n",
            "56/56 [==============================] - 113s 2s/step - loss: 0.1665 - accuracy: 0.9367 - val_loss: 0.5305 - val_accuracy: 0.7153\n",
            "Epoch 20/50\n",
            "56/56 [==============================] - 113s 2s/step - loss: 0.1847 - accuracy: 0.9197 - val_loss: 0.2002 - val_accuracy: 0.9306\n",
            "Epoch 21/50\n",
            "56/56 [==============================] - 113s 2s/step - loss: 0.1700 - accuracy: 0.9253 - val_loss: 0.4252 - val_accuracy: 0.7743\n",
            "Epoch 22/50\n",
            "56/56 [==============================] - 113s 2s/step - loss: 0.1941 - accuracy: 0.9253 - val_loss: 0.2532 - val_accuracy: 0.8924\n",
            "Epoch 23/50\n",
            "56/56 [==============================] - 113s 2s/step - loss: 0.1772 - accuracy: 0.9310 - val_loss: 0.2132 - val_accuracy: 0.9167\n",
            "Epoch 24/50\n",
            "56/56 [==============================] - 113s 2s/step - loss: 0.1431 - accuracy: 0.9434 - val_loss: 0.2800 - val_accuracy: 0.8958\n",
            "Epoch 25/50\n",
            "56/56 [==============================] - 113s 2s/step - loss: 0.1230 - accuracy: 0.9525 - val_loss: 0.1242 - val_accuracy: 0.9549\n",
            "Epoch 26/50\n",
            "56/56 [==============================] - 113s 2s/step - loss: 0.1418 - accuracy: 0.9468 - val_loss: 0.1494 - val_accuracy: 0.9410\n",
            "Epoch 27/50\n",
            "56/56 [==============================] - 113s 2s/step - loss: 0.1703 - accuracy: 0.9412 - val_loss: 0.1403 - val_accuracy: 0.9444\n",
            "Epoch 28/50\n",
            "56/56 [==============================] - 113s 2s/step - loss: 0.1180 - accuracy: 0.9548 - val_loss: 0.1931 - val_accuracy: 0.9201\n",
            "Epoch 29/50\n",
            "56/56 [==============================] - 113s 2s/step - loss: 0.1275 - accuracy: 0.9468 - val_loss: 0.2051 - val_accuracy: 0.8924\n",
            "Epoch 30/50\n",
            "56/56 [==============================] - 113s 2s/step - loss: 0.0899 - accuracy: 0.9717 - val_loss: 0.1201 - val_accuracy: 0.9514\n",
            "Epoch 31/50\n",
            "56/56 [==============================] - 112s 2s/step - loss: 0.1509 - accuracy: 0.9412 - val_loss: 0.1238 - val_accuracy: 0.9479\n",
            "Epoch 32/50\n",
            "56/56 [==============================] - 113s 2s/step - loss: 0.0910 - accuracy: 0.9627 - val_loss: 0.1343 - val_accuracy: 0.9618\n",
            "Epoch 33/50\n",
            "56/56 [==============================] - 112s 2s/step - loss: 0.1358 - accuracy: 0.9514 - val_loss: 0.2108 - val_accuracy: 0.9375\n",
            "Epoch 34/50\n",
            "56/56 [==============================] - 112s 2s/step - loss: 0.1367 - accuracy: 0.9514 - val_loss: 0.1387 - val_accuracy: 0.9444\n",
            "Epoch 35/50\n",
            "56/56 [==============================] - 112s 2s/step - loss: 0.1015 - accuracy: 0.9559 - val_loss: 0.1116 - val_accuracy: 0.9583\n",
            "Epoch 36/50\n",
            "56/56 [==============================] - 112s 2s/step - loss: 0.1253 - accuracy: 0.9570 - val_loss: 0.1906 - val_accuracy: 0.9583\n",
            "Epoch 37/50\n",
            "56/56 [==============================] - 112s 2s/step - loss: 0.1101 - accuracy: 0.9638 - val_loss: 0.1462 - val_accuracy: 0.9514\n",
            "Epoch 38/50\n",
            "56/56 [==============================] - 112s 2s/step - loss: 0.1002 - accuracy: 0.9683 - val_loss: 0.1343 - val_accuracy: 0.9514\n",
            "Epoch 39/50\n",
            "56/56 [==============================] - 112s 2s/step - loss: 0.1023 - accuracy: 0.9638 - val_loss: 0.0897 - val_accuracy: 0.9688\n",
            "Epoch 40/50\n",
            "56/56 [==============================] - 112s 2s/step - loss: 0.0968 - accuracy: 0.9706 - val_loss: 0.1328 - val_accuracy: 0.9757\n",
            "Epoch 41/50\n",
            "56/56 [==============================] - 112s 2s/step - loss: 0.1188 - accuracy: 0.9593 - val_loss: 0.1138 - val_accuracy: 0.9722\n",
            "Epoch 42/50\n",
            "56/56 [==============================] - 112s 2s/step - loss: 0.0634 - accuracy: 0.9808 - val_loss: 0.0748 - val_accuracy: 0.9792\n",
            "Epoch 43/50\n",
            "56/56 [==============================] - 112s 2s/step - loss: 0.1123 - accuracy: 0.9593 - val_loss: 0.1695 - val_accuracy: 0.9688\n",
            "Epoch 44/50\n",
            "56/56 [==============================] - 112s 2s/step - loss: 0.0742 - accuracy: 0.9729 - val_loss: 0.1080 - val_accuracy: 0.9618\n",
            "Epoch 45/50\n",
            "56/56 [==============================] - 112s 2s/step - loss: 0.0506 - accuracy: 0.9785 - val_loss: 0.0576 - val_accuracy: 0.9826\n",
            "Epoch 46/50\n",
            "56/56 [==============================] - 112s 2s/step - loss: 0.0663 - accuracy: 0.9762 - val_loss: 0.1214 - val_accuracy: 0.9792\n",
            "Epoch 47/50\n",
            "56/56 [==============================] - 113s 2s/step - loss: 0.0818 - accuracy: 0.9751 - val_loss: 0.2543 - val_accuracy: 0.9028\n",
            "Epoch 48/50\n",
            "56/56 [==============================] - 115s 2s/step - loss: 0.0668 - accuracy: 0.9808 - val_loss: 0.0551 - val_accuracy: 0.9861\n",
            "Epoch 49/50\n",
            "56/56 [==============================] - 114s 2s/step - loss: 0.0626 - accuracy: 0.9774 - val_loss: 0.0801 - val_accuracy: 0.9757\n",
            "Epoch 50/50\n",
            "56/56 [==============================] - 113s 2s/step - loss: 0.0650 - accuracy: 0.9819 - val_loss: 0.0937 - val_accuracy: 0.9861\n"
          ]
        }
      ]
    },
    {
      "cell_type": "code",
      "source": [
        "plt.plot(history.history['accuracy'])"
      ],
      "metadata": {
        "colab": {
          "base_uri": "https://localhost:8080/",
          "height": 282
        },
        "id": "eTuSU7COYeGp",
        "outputId": "43bdadae-9356-4d20-cac3-4aec6423edf7"
      },
      "execution_count": 13,
      "outputs": [
        {
          "output_type": "execute_result",
          "data": {
            "text/plain": [
              "[<matplotlib.lines.Line2D at 0x7f942b59b1d0>]"
            ]
          },
          "metadata": {},
          "execution_count": 13
        },
        {
          "output_type": "display_data",
          "data": {
            "text/plain": [
              "<Figure size 432x288 with 1 Axes>"
            ],
            "image/png": "[encoded data removed]"
          },
          "metadata": {
            "needs_background": "light"
          }
        }
      ]
    }
  ]
}